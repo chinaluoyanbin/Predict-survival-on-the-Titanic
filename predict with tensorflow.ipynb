{
 "cells": [
  {
   "cell_type": "code",
   "execution_count": 67,
   "metadata": {},
   "outputs": [],
   "source": [
    "import pandas as pd\n",
    "import os\n",
    "import numpy as np\n",
    "\n",
    "# 读取train.csv为pandas.DataFrame\n",
    "train = pd.read_csv(os.getcwd() + '\\\\data\\\\train.csv')\n",
    "\n",
    "# 数据预处理\n",
    "train['Age'] = train['Age'].fillna(train['Age'].mean())\n",
    "train['Cabin'] = pd.factorize(train.Cabin)[0]\n",
    "train.fillna(0, inplace=True)\n",
    "train['Sex'] = [1 if i=='male' else 0 for i in train.Sex]\n",
    "\n",
    "# 处理Pclass\n",
    "train['P1'] = np.array(train['Pclass']==1).astype(np.int32)\n",
    "train['P2'] = np.array(train['Pclass']==2).astype(np.int32)\n",
    "train['P3'] = np.array(train['Pclass']==3).astype(np.int32)\n",
    "del train['Pclass']\n",
    "\n",
    "# 处理Embarked\n",
    "train.Embarked.unique()\n",
    "\n",
    "train['E1'] = np.array(train['Embarked']=='S').astype(np.int32)\n",
    "train['E2'] = np.array(train['Embarked']=='C').astype(np.int32)\n",
    "train['E3'] = np.array(train['Embarked']=='Q').astype(np.int32)\n",
    "del train['Embarked']\n",
    "\n",
    "train.columns\n",
    "\n",
    "train_x = train[['Sex', 'Age', 'SibSp', 'Parch',\n",
    "       'Fare', 'Cabin', 'P1', 'P2', 'P3', 'E1', 'E2', 'E3']]\n",
    "train_y_ = train['Survived'].values.reshape(len(train), 1)\n",
    "\n",
    "import tensorflow as tf\n",
    "\n",
    "x = tf.placeholder(tf.float32, shape=[None, 12])\n",
    "y_ = tf.placeholder(tf.float32, shape=[None, 1])\n",
    "\n",
    "w = tf.Variable(tf.random_normal([12, 1]))\n",
    "b = tf.Variable(tf.random_normal([1]))\n",
    "y = tf.matmul(x, w) + b\n",
    "pred = tf.cast(tf.sigmoid(y) > 0.5, tf.float32)\n",
    "\n",
    "# 定义损失函数loss\n",
    "loss = tf.reduce_mean(\n",
    "    tf.nn.sigmoid_cross_entropy_with_logits(labels=y_, logits=y))\n",
    "# 定义反向传播方法\n",
    "train_step = tf.train.GradientDescentOptimizer(0.0003).minimize(loss)\n",
    "# 定义准确率\n",
    "accuracy = tf.reduce_mean(tf.cast(tf.equal(pred, y_), tf.float32))\n",
    "STEPS = 25000\n",
    "BATCH_SIZE = 100"
   ]
  },
  {
   "cell_type": "code",
   "execution_count": 65,
   "metadata": {},
   "outputs": [
    {
     "name": "stdout",
     "output_type": "stream",
     "text": [
      "Int64Index([501,  67, 273, 829, 441, 502,  86, 495,  57, 258,\n",
      "            ...\n",
      "            450, 327, 473, 185, 830, 620,  16, 546, 122, 505],\n",
      "           dtype='int64', length=891)\n"
     ]
    }
   ],
   "source": [
    "with tf.Session() as sess:\n",
    "    init_op = tf.global_variables_initializer()\n",
    "    sess.run(init_op)\n",
    "    train_loss = []\n",
    "    train_acc = []\n",
    "    index = np.random.permutation(len(train_x))\n",
    "    a = np.array([1, 2])\n",
    "    print(train.take(index))"
   ]
  },
  {
   "cell_type": "code",
   "execution_count": 68,
   "metadata": {},
   "outputs": [
    {
     "ename": "ValueError",
     "evalue": "Cannot feed value of shape (100,) for Tensor 'Placeholder_11:0', which has shape '(?, 1)'",
     "output_type": "error",
     "traceback": [
      "\u001b[1;31m---------------------------------------------------------------------------\u001b[0m",
      "\u001b[1;31mValueError\u001b[0m                                Traceback (most recent call last)",
      "\u001b[1;32m<ipython-input-68-c7615c756cca>\u001b[0m in \u001b[0;36m<module>\u001b[1;34m()\u001b[0m\n\u001b[0;32m     16\u001b[0m                 feed_dict={\n\u001b[0;32m     17\u001b[0m                     \u001b[0mx\u001b[0m\u001b[1;33m:\u001b[0m \u001b[0mX\u001b[0m\u001b[1;33m[\u001b[0m\u001b[0mstart\u001b[0m\u001b[1;33m:\u001b[0m\u001b[0mend\u001b[0m\u001b[1;33m]\u001b[0m\u001b[1;33m,\u001b[0m\u001b[1;33m\u001b[0m\u001b[0m\n\u001b[1;32m---> 18\u001b[1;33m                     \u001b[0my_\u001b[0m\u001b[1;33m:\u001b[0m \u001b[0mY_\u001b[0m\u001b[1;33m[\u001b[0m\u001b[0mstart\u001b[0m\u001b[1;33m:\u001b[0m\u001b[0mend\u001b[0m\u001b[1;33m]\u001b[0m\u001b[1;33m\u001b[0m\u001b[0m\n\u001b[0m\u001b[0;32m     19\u001b[0m                 })\n\u001b[0;32m     20\u001b[0m             \u001b[1;32mif\u001b[0m \u001b[0mi\u001b[0m \u001b[1;33m%\u001b[0m \u001b[1;36m1000\u001b[0m \u001b[1;33m==\u001b[0m \u001b[1;36m0\u001b[0m\u001b[1;33m:\u001b[0m\u001b[1;33m\u001b[0m\u001b[0m\n",
      "\u001b[1;32mc:\\users\\administrator\\envs\\base\\lib\\site-packages\\tensorflow\\python\\client\\session.py\u001b[0m in \u001b[0;36mrun\u001b[1;34m(self, fetches, feed_dict, options, run_metadata)\u001b[0m\n\u001b[0;32m    898\u001b[0m     \u001b[1;32mtry\u001b[0m\u001b[1;33m:\u001b[0m\u001b[1;33m\u001b[0m\u001b[0m\n\u001b[0;32m    899\u001b[0m       result = self._run(None, fetches, feed_dict, options_ptr,\n\u001b[1;32m--> 900\u001b[1;33m                          run_metadata_ptr)\n\u001b[0m\u001b[0;32m    901\u001b[0m       \u001b[1;32mif\u001b[0m \u001b[0mrun_metadata\u001b[0m\u001b[1;33m:\u001b[0m\u001b[1;33m\u001b[0m\u001b[0m\n\u001b[0;32m    902\u001b[0m         \u001b[0mproto_data\u001b[0m \u001b[1;33m=\u001b[0m \u001b[0mtf_session\u001b[0m\u001b[1;33m.\u001b[0m\u001b[0mTF_GetBuffer\u001b[0m\u001b[1;33m(\u001b[0m\u001b[0mrun_metadata_ptr\u001b[0m\u001b[1;33m)\u001b[0m\u001b[1;33m\u001b[0m\u001b[0m\n",
      "\u001b[1;32mc:\\users\\administrator\\envs\\base\\lib\\site-packages\\tensorflow\\python\\client\\session.py\u001b[0m in \u001b[0;36m_run\u001b[1;34m(self, handle, fetches, feed_dict, options, run_metadata)\u001b[0m\n\u001b[0;32m   1109\u001b[0m                              \u001b[1;34m'which has shape %r'\u001b[0m \u001b[1;33m%\u001b[0m\u001b[1;33m\u001b[0m\u001b[0m\n\u001b[0;32m   1110\u001b[0m                              (np_val.shape, subfeed_t.name,\n\u001b[1;32m-> 1111\u001b[1;33m                               str(subfeed_t.get_shape())))\n\u001b[0m\u001b[0;32m   1112\u001b[0m           \u001b[1;32mif\u001b[0m \u001b[1;32mnot\u001b[0m \u001b[0mself\u001b[0m\u001b[1;33m.\u001b[0m\u001b[0mgraph\u001b[0m\u001b[1;33m.\u001b[0m\u001b[0mis_feedable\u001b[0m\u001b[1;33m(\u001b[0m\u001b[0msubfeed_t\u001b[0m\u001b[1;33m)\u001b[0m\u001b[1;33m:\u001b[0m\u001b[1;33m\u001b[0m\u001b[0m\n\u001b[0;32m   1113\u001b[0m             \u001b[1;32mraise\u001b[0m \u001b[0mValueError\u001b[0m\u001b[1;33m(\u001b[0m\u001b[1;34m'Tensor %s may not be fed.'\u001b[0m \u001b[1;33m%\u001b[0m \u001b[0msubfeed_t\u001b[0m\u001b[1;33m)\u001b[0m\u001b[1;33m\u001b[0m\u001b[0m\n",
      "\u001b[1;31mValueError\u001b[0m: Cannot feed value of shape (100,) for Tensor 'Placeholder_11:0', which has shape '(?, 1)'"
     ]
    }
   ],
   "source": [
    "\n",
    "with tf.Session() as sess:\n",
    "    init_op = tf.global_variables_initializer()\n",
    "    sess.run(init_op)\n",
    "    train_loss = []\n",
    "    train_acc = []\n",
    "    for i in range(1001):\n",
    "        index = np.random.permutation(len(train_y_))\n",
    "        X = train_x.take(index)\n",
    "        Y_ = train_y_.take(index)\n",
    "        for j in range(len(train_y_) // 100 + 1):\n",
    "            start = j * BATCH_SIZE\n",
    "            end = start + BATCH_SIZE\n",
    "            sess.run(\n",
    "                train_step,\n",
    "                feed_dict={\n",
    "                    x: X[start:end],\n",
    "                    y_: Y_[start:end]\n",
    "                })\n",
    "            if i % 1000 == 0:\n",
    "                train_loss_temp = sess.run(\n",
    "                    loss,\n",
    "                    feed_dict={\n",
    "                        x: X[start:end],\n",
    "                        y_: Y_[start:end]\n",
    "                    })\n",
    "                train_loss.append(train_loss_temp)\n",
    "                train_acc_temp = sess.run(\n",
    "                    accuracy,\n",
    "                    feed_dict={\n",
    "                        x: X[start:end],\n",
    "                        y_: Y_[start:end]\n",
    "                    })\n",
    "                train_acc.append(train_acc_temp)\n",
    "                print(train_loss_temp, ' ', train_acc_temp)"
   ]
  }
 ],
 "metadata": {
  "kernelspec": {
   "display_name": "Python 3",
   "language": "python",
   "name": "python3"
  },
  "language_info": {
   "codemirror_mode": {
    "name": "ipython",
    "version": 3
   },
   "file_extension": ".py",
   "mimetype": "text/x-python",
   "name": "python",
   "nbconvert_exporter": "python",
   "pygments_lexer": "ipython3",
   "version": "3.6.3"
  }
 },
 "nbformat": 4,
 "nbformat_minor": 2
}
